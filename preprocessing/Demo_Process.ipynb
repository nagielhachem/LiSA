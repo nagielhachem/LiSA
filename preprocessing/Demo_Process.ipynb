{
 "cells": [
  {
   "cell_type": "markdown",
   "metadata": {},
   "source": [
    "# Preprocessing Demo"
   ]
  },
  {
   "cell_type": "code",
   "execution_count": 1,
   "metadata": {},
   "outputs": [],
   "source": [
    "import process as p"
   ]
  },
  {
   "cell_type": "markdown",
   "metadata": {},
   "source": [
    "## Determinants Demo"
   ]
  },
  {
   "cell_type": "code",
   "execution_count": 2,
   "metadata": {
    "scrolled": true
   },
   "outputs": [
    {
     "name": "stdout",
     "output_type": "stream",
     "text": [
      "Hi, Welcome   DEMO \n"
     ]
    }
   ],
   "source": [
    "sentence = \"Hi, Welcome to this DEMO \"\n",
    "print(p.processDeterminants(sentence))\n"
   ]
  },
  {
   "cell_type": "markdown",
   "metadata": {},
   "source": [
    "## Hashtags Demo"
   ]
  },
  {
   "cell_type": "code",
   "execution_count": 3,
   "metadata": {},
   "outputs": [
    {
     "name": "stdout",
     "output_type": "stream",
     "text": [
      "this DEMO have already started __HASH_PFE __HASH_PRES \n"
     ]
    }
   ],
   "source": [
    "sentence = \"this DEMO have already started #PFE #PRES \"\n",
    "print(p.processHashtags(sentence))\n"
   ]
  },
  {
   "cell_type": "markdown",
   "metadata": {},
   "source": [
    "## Urls Demo"
   ]
  },
  {
   "cell_type": "code",
   "execution_count": 4,
   "metadata": {},
   "outputs": [
    {
     "name": "stdout",
     "output_type": "stream",
     "text": [
      "our school's website is __URL \n"
     ]
    }
   ],
   "source": [
    "sentence = \"our school's website is http://www.epita.net \"\n",
    "print(p.processUrls(sentence))"
   ]
  },
  {
   "cell_type": "markdown",
   "metadata": {},
   "source": [
    "## Emoticons Demo"
   ]
  },
  {
   "cell_type": "code",
   "execution_count": 5,
   "metadata": {},
   "outputs": [
    {
     "name": "stdout",
     "output_type": "stream",
     "text": [
      "i hope you're not getting bored  and you like it \n",
      "i hope you're not getting bored  __EMOT_LAUGH  and you like it  __EMOT_LOVE \n"
     ]
    }
   ],
   "source": [
    "sentence = \"i hope you're not getting bored :D and you like it <3\"\n",
    "print(p.processEmoticons(sentence, True))\n",
    "print(p.processEmoticons(sentence, False))"
   ]
  },
  {
   "cell_type": "markdown",
   "metadata": {},
   "source": [
    "## RepeatedLetters Demo"
   ]
  },
  {
   "cell_type": "code",
   "execution_count": 6,
   "metadata": {},
   "outputs": [
    {
     "name": "stdout",
     "output_type": "stream",
     "text": [
      "i hope also that we are not that laate in our project \n"
     ]
    }
   ],
   "source": [
    "sentence = \"i hope also that we are not that laaaaaaaaaaate in our project \"\n",
    "print(p.processRepeatLetters(sentence))"
   ]
  },
  {
   "cell_type": "markdown",
   "metadata": {},
   "source": [
    "## Lemmatisation Stemming Demo"
   ]
  },
  {
   "cell_type": "code",
   "execution_count": 7,
   "metadata": {},
   "outputs": [
    {
     "name": "stdout",
     "output_type": "stream",
     "text": [
      "with stem and lem dog becom dog and say becom say \n"
     ]
    }
   ],
   "source": [
    "sentence = \"with stem and lem dogs become dog and saying becom say \"\n",
    "print(p.processSteamLeam(sentence))"
   ]
  },
  {
   "cell_type": "markdown",
   "metadata": {},
   "source": [
    "## Retweets"
   ]
  },
  {
   "cell_type": "code",
   "execution_count": 8,
   "metadata": {},
   "outputs": [
    {
     "name": "stdout",
     "output_type": "stream",
     "text": [
      "__DELETE\n"
     ]
    }
   ],
   "source": [
    "sentence = \"Retweets are marked by the token RT\"\n",
    "print(p.processRetweets(sentence))"
   ]
  },
  {
   "cell_type": "code",
   "execution_count": null,
   "metadata": {},
   "outputs": [],
   "source": []
  }
 ],
 "metadata": {
  "kernelspec": {
   "display_name": "Python 3",
   "language": "python",
   "name": "python3"
  },
  "language_info": {
   "codemirror_mode": {
    "name": "ipython",
    "version": 3
   },
   "file_extension": ".py",
   "mimetype": "text/x-python",
   "name": "python",
   "nbconvert_exporter": "python",
   "pygments_lexer": "ipython3",
   "version": "3.5.2"
  }
 },
 "nbformat": 4,
 "nbformat_minor": 2
}
