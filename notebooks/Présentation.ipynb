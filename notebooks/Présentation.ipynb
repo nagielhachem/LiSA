{
 "cells": [
  {
   "cell_type": "markdown",
   "metadata": {},
   "source": [
    "# Présentation des résultats"
   ]
  },
  {
   "cell_type": "markdown",
   "metadata": {},
   "source": [
    "Après avoir trouvé et implémenté les différentes méthodes de classification et d'analyse du sentiment autour d'une phrase, nous avons pu effectuer des tests de précision et de recall sur un ensemble de donnée pré labélisé."
   ]
  },
  {
   "cell_type": "markdown",
   "metadata": {},
   "source": [
    "# Résultat de précision:"
   ]
  },
  {
   "cell_type": "code",
   "execution_count": 67,
   "metadata": {
    "collapsed": true
   },
   "outputs": [],
   "source": [
    "import time\n",
    "import json"
   ]
  },
  {
   "cell_type": "code",
   "execution_count": 93,
   "metadata": {
    "collapsed": true
   },
   "outputs": [],
   "source": [
    "import matplotlib.pyplot as plt\n",
    "import numpy as np\n",
    "\n",
    "import sklearn.feature_extraction.text as skl_txt\n",
    "import sklearn.linear_model as skl_lm\n",
    "import sklearn.neighbors as skl_nei\n",
    "import sklearn.ensemble as skl_en\n",
    "import sklearn.naive_bayes as skl_nb\n",
    "from sklearn import metrics as skl_metrics"
   ]
  },
  {
   "cell_type": "code",
   "execution_count": 69,
   "metadata": {
    "collapsed": true
   },
   "outputs": [],
   "source": [
    "path_hutto = \"../data/hutto_ICWSM_2014/results/data_modified.txt\""
   ]
  },
  {
   "cell_type": "code",
   "execution_count": 85,
   "metadata": {
    "collapsed": true
   },
   "outputs": [],
   "source": [
    "def getData(data_path):\n",
    "    f = open(data_path, \"r\")\n",
    "    data = json.loads(f.readlines()[0])\n",
    "    f.close()\n",
    "    data = np.array(data)\n",
    "    return data[:, 1], np.array(data[:, 0], dtype='float')"
   ]
  },
  {
   "cell_type": "code",
   "execution_count": null,
   "metadata": {
    "collapsed": true
   },
   "outputs": [],
   "source": []
  },
  {
   "cell_type": "code",
   "execution_count": 98,
   "metadata": {
    "collapsed": true
   },
   "outputs": [],
   "source": [
    "data, labels = getData(path_hutto)\n",
    "\n",
    "labels[labels > 0] = 1\n",
    "labels[labels < 0] = 0\n",
    "\n",
    "N = int(0.7 * data.shape[0])\n",
    "\n",
    "train_data = data[:N]\n",
    "train_labels = labels[:N]\n",
    "test_data = data[N:]\n",
    "test_labels = labels[N:]"
   ]
  },
  {
   "cell_type": "code",
   "execution_count": 96,
   "metadata": {
    "collapsed": true
   },
   "outputs": [],
   "source": [
    "def classify(clf, data_train, train_labels, data_test, test_labels, ngrams = (1,1), binn = False, idf = True):\n",
    "    t0 = time.time()\n",
    "    if (binn == True):\n",
    "        idf = False\n",
    "    vec = skl_txt.TfidfVectorizer(use_idf = idf, binary = binn, ngram_range = ngrams )\n",
    "    data_train_tfidf = vec.fit_transform(data_train) \n",
    "    data_test_tfidf =  vec.transform(data_test)\n",
    "    clf.fit(data_train_tfidf, train_labels)\n",
    "    predicted = clf.predict(data_test_tfidf)\n",
    "    acc = skl_metrics.accuracy_score(test_labels, predicted)\n",
    "    recall = skl_metrics.recall_score(test_labels, predicted)\n",
    "    pre = skl_metrics.precision_score(test_labels, predicted)\n",
    "    dur = time.time() - t0\n",
    "    return (pre, recall, acc, dur)\n",
    "\n",
    "\n",
    "def bench():\n",
    "    clfs = [(skl_nb.MultinomialNB(alpha=.01), \"Multinomial NB\"),\n",
    "        (skl_nb.BernoulliNB(alpha=.01), \"BernoulliNB\"),\n",
    "        (skl_lm.RidgeClassifier(tol=1e-2, solver=\"sag\"), \"Ridge Classifier\"),\n",
    "        (skl_lm.Perceptron(max_iter=50), \"Perceptron\"), \n",
    "        (skl_lm.PassiveAggressiveClassifier(max_iter=50), \"Passive-Aggressive\"),\n",
    "        (skl_nei.KNeighborsClassifier(n_neighbors=10), \"kNN\"),\n",
    "        (skl_en.RandomForestClassifier(n_estimators=100), \"Random forest\")]\n",
    "    results = []\n",
    "    for clf, name in clfs:\n",
    "        results.append(classify(clf, train_data, train_labels, test_data, test_labels, binn = False))\n",
    "    plot_result(clfs, np.array(results))\n",
    "\n",
    "\n",
    "def autolabels(rects, ax):\n",
    "    for rect in rects:\n",
    "        height = rect.get_height()\n",
    "        ax.text(rect.get_x() + rect.get_width()/2., 1.05*height,\n",
    "                '%d' % int(height * 100) + \"%\",\n",
    "              ha='center', va='bottom')\n",
    "\n",
    "\n",
    "\n",
    "def plot_result(clfs, results):\n",
    "    N = len(clfs)\n",
    "    ind = np.arange(N)  # the x locations for the groups\n",
    "    width = 0.22    # the width of the bars\n",
    "    fig, ax = plt.subplots()\n",
    "    rects1 = ax.bar(ind , results[:,0], width, color='g')\n",
    "    rects2 = ax.bar(ind - width, results[:,1], width, color='r')\n",
    "    rects3 = ax.bar(ind + width, results[:,2], width, color='b')\n",
    "    # add some text for labels, title and axes ticks\n",
    "    ax.set_ylim(0,1.2)\n",
    "    ax.set_ylabel('Pourcentage %')\n",
    "    ax.set_title(\"Benchmark\")\n",
    "    ax.set_xticks(ind )\n",
    "    ax.set_xticks(ind )\n",
    "    labels = [clfs[i][1] for i in range(N)]\n",
    "    ax.set_xticklabels(labels, rotation = 'vertical')\n",
    "    ax.legend((rects1[0], rects2[0], rects3[0]), ('precision', 'recall', 'accuracy'))\n",
    "    \n",
    "\n",
    "    autolabels(rects1, ax)\n",
    "    autolabels(rects2, ax)\n",
    "    autolabels(rects3, ax)\n",
    "    plt.show()    "
   ]
  },
  {
   "cell_type": "code",
   "execution_count": 97,
   "metadata": {},
   "outputs": [
    {
     "data": {
      "image/png": "[encoded data removed]",
      "text/plain": [
       "<matplotlib.figure.Figure at 0x10e79a668>"
      ]
     },
     "metadata": {},
     "output_type": "display_data"
    }
   ],
   "source": [
    "bench()"
   ]
  }
 ],
 "metadata": {
  "kernelspec": {
   "display_name": "Python 3",
   "language": "python",
   "name": "python3"
  },
  "language_info": {
   "codemirror_mode": {
    "name": "ipython",
    "version": 3
   },
   "file_extension": ".py",
   "mimetype": "text/x-python",
   "name": "python",
   "nbconvert_exporter": "python",
   "pygments_lexer": "ipython3",
   "version": "3.6.1"
  }
 },
 "nbformat": 4,
 "nbformat_minor": 2
}
