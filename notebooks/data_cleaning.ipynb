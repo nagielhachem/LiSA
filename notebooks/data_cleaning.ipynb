{
 "cells": [
  {
   "cell_type": "code",
   "execution_count": 30,
   "metadata": {},
   "outputs": [
    {
     "name": "stdout",
     "output_type": "stream",
     "text": [
      "23703\n",
      "3815\n"
     ]
    }
   ],
   "source": [
    "import json\n",
    "\n",
    "data_modified = []\n",
    "\n",
    "count = 0\n",
    "eps = 0.1\n",
    "f = open(\"../data/hutto_ICWSM_2014/results/data_modified.txt\", \"r\")\n",
    "lines = f.readlines()[0]\n",
    "data = json.loads(lines)\n",
    "print(len(data))\n",
    "for l in data:\n",
    "    if l[0] > eps or l[0] < -eps:\n",
    "        if l[0] < 0:\n",
    "            l[0] = 0\n",
    "        else:\n",
    "            l[0] = 1\n",
    "        data_modified.append(l)\n",
    "    else:\n",
    "        count += 1\n",
    "\n",
    "print(count)\n",
    "res = open(\"../data/data_cleaned/hutto.txt\", \"w\")\n",
    "res.write(json.dumps(data_modified))\n",
    "res.close()"
   ]
  },
  {
   "cell_type": "code",
   "execution_count": 33,
   "metadata": {},
   "outputs": [],
   "source": [
    "import json\n",
    "\n",
    "data_modified = []\n",
    "\n",
    "f = open(\"../data/michigan/training.txt\", \"r\")\n",
    "lines = f.readlines()\n",
    "for l in lines:\n",
    "    l = l.split(\"\\t\")\n",
    "    l[0] = int(l[0])\n",
    "    if l[1].endswith(\"\\n\"):\n",
    "        l[1] = l[1][:-1]\n",
    "    data_modified.append(l)\n",
    "\n",
    "res = open(\"../data/data_cleaned/michigan_training.txt\", \"w\")\n",
    "res.write(json.dumps(data_modified))\n",
    "res.close()"
   ]
  },
  {
   "cell_type": "code",
   "execution_count": 35,
   "metadata": {},
   "outputs": [],
   "source": [
    "import json\n",
    "\n",
    "data_modified = []\n",
    "\n",
    "f = open(\"../data/michigan/testdata.txt\", \"r\")\n",
    "lines = f.readlines()\n",
    "for l in lines:\n",
    "    if l.endswith(\"\\n\"):\n",
    "        l = l[:-1]\n",
    "    data_modified.append(l)\n",
    "\n",
    "res = open(\"../data/data_cleaned/michigan_test.txt\", \"w\")\n",
    "res.write(json.dumps(data_modified))\n",
    "res.close()"
   ]
  },
  {
   "cell_type": "code",
   "execution_count": 51,
   "metadata": {},
   "outputs": [],
   "source": [
    "import json\n",
    "import csv\n",
    "\n",
    "data_modified = []\n",
    "\n",
    "f = open(\"../data/twitter-airline-sentiment/Tweets.csv\", \"r\")\n",
    "reader = csv.reader(f, delimiter=',')\n",
    "data = [l for l in reader]\n",
    "for l in data[1:]:\n",
    "    l = [l[1], l[10]]\n",
    "    if (l[0] == \"positive\"):\n",
    "        l[0] = 1\n",
    "        data_modified.append(l)\n",
    "    elif (l[0] == \"negative\"):\n",
    "        l[0] = 0\n",
    "        data_modified.append(l)\n",
    "\n",
    "res = open(\"../data/data_cleaned/airline.txt\", \"w\")\n",
    "res.write(json.dumps(data_modified))\n",
    "res.close()"
   ]
  },
  {
   "cell_type": "code",
   "execution_count": 54,
   "metadata": {},
   "outputs": [],
   "source": [
    "import json\n",
    "import csv\n",
    "\n",
    "data_modified = []\n",
    "\n",
    "f = open(\"../data/rt-polaritydata/rt-polarity.pos\", \"r\", errors='replace')\n",
    "data = f.readlines()\n",
    "for l in data:\n",
    "    if l.endswith(\"\\n\"):\n",
    "        l = l[:-1]\n",
    "    l = [1, l]\n",
    "    data_modified.append(l)\n",
    "\n",
    "res = open(\"../data/data_cleaned/rt-polarity-pos.txt\", \"w\")\n",
    "res.write(json.dumps(data_modified))\n",
    "res.close()"
   ]
  },
  {
   "cell_type": "code",
   "execution_count": 76,
   "metadata": {
    "collapsed": true
   },
   "outputs": [],
   "source": [
    "import json\n",
    "import csv\n",
    "\n",
    "data_modified = []\n",
    "\n",
    "f = open(\"../data/rt-polaritydata/rt-polarity.neg\", \"r\", errors='replace')\n",
    "data = f.readlines()\n",
    "for l in data:\n",
    "    if l.endswith(\"\\n\"):\n",
    "        l = l[:-1]\n",
    "    l = [0, l]\n",
    "    data_modified.append(l)\n",
    "\n",
    "res = open(\"../data/data_cleaned/rt-polarity-neg.txt\", \"w\")\n",
    "res.write(json.dumps(data_modified))\n",
    "res.close()"
   ]
  },
  {
   "cell_type": "code",
   "execution_count": 78,
   "metadata": {},
   "outputs": [],
   "source": [
    "import json\n",
    "import csv\n",
    "\n",
    "data_modified = []\n",
    "\n",
    "f = open(\"../data/kaggle/labeledTrainData.tsv\", \"r\", errors='replace')\n",
    "data = f.readlines()\n",
    "for l in data[1:]:\n",
    "    l = l.split(\"\\t\")\n",
    "    l = l[1:]\n",
    "    if l[1].endswith(\"\\n\"):\n",
    "        l[1] = l[1][:-1]\n",
    "    data_modified.append(l)\n",
    "\n",
    "res = open(\"../data/data_cleaned/kaggle-train.txt\", \"w\")\n",
    "res.write(json.dumps(data_modified))\n",
    "res.close()"
   ]
  },
  {
   "cell_type": "code",
   "execution_count": 75,
   "metadata": {
    "collapsed": true
   },
   "outputs": [],
   "source": [
    "import json\n",
    "import csv\n",
    "\n",
    "data_modified = []\n",
    "\n",
    "f = open(\"../data/kaggle/testData.tsv\", \"r\", errors='replace')\n",
    "data = f.readlines()\n",
    "for l in data[1:]:\n",
    "    l = l.split(\"\\t\")\n",
    "    l = l[1]\n",
    "    if l.endswith(\"\\n\"):\n",
    "        l = l[:-1]\n",
    "    l = l[1:]\n",
    "    l = l[:-1]\n",
    "    data_modified.append(l)\n",
    "\n",
    "res = open(\"../data/data_cleaned/kaggle-test1.txt\", \"w\")\n",
    "res.write(json.dumps(data_modified))\n",
    "res.close()"
   ]
  },
  {
   "cell_type": "code",
   "execution_count": 74,
   "metadata": {},
   "outputs": [],
   "source": [
    "import json\n",
    "import csv\n",
    "\n",
    "data_modified = []\n",
    "\n",
    "f = open(\"../data/kaggle/unlabeledTrainData.tsv\", \"r\", errors='replace')\n",
    "data = f.readlines()\n",
    "for l in data[1:]:\n",
    "    l = l.split(\"\\t\")\n",
    "    l = l[1]\n",
    "    if l.endswith(\"\\n\"):\n",
    "        l = l[:-1]\n",
    "    l = l[1:]\n",
    "    l = l[:-1]\n",
    "    data_modified.append(l)\n",
    "\n",
    "res = open(\"../data/data_cleaned/kaggle-test2.txt\", \"w\")\n",
    "res.write(json.dumps(data_modified))\n",
    "res.close()"
   ]
  },
  {
   "cell_type": "code",
   "execution_count": null,
   "metadata": {
    "collapsed": true
   },
   "outputs": [],
   "source": []
  }
 ],
 "metadata": {
  "kernelspec": {
   "display_name": "Python 3",
   "language": "python",
   "name": "python3"
  },
  "language_info": {
   "codemirror_mode": {
    "name": "ipython",
    "version": 3
   },
   "file_extension": ".py",
   "mimetype": "text/x-python",
   "name": "python",
   "nbconvert_exporter": "python",
   "pygments_lexer": "ipython3",
   "version": "3.6.3"
  }
 },
 "nbformat": 4,
 "nbformat_minor": 2
}
