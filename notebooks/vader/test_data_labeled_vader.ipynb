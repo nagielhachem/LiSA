{
 "cells": [
  {
   "cell_type": "markdown",
   "metadata": {},
   "source": [
    "https://github.com/cjhutto/vaderSentiment\n",
    "    \n",
    "Utilisation du fichier vader_lexicon.txt pour calculer la pos/neg/neu d'un tweet.\n",
    "Ce fichier a été crée \"à la main\" en demandant à plusieurs personnes de donner leur sentiment autour des mots proposés.\n",
    "Avantage: bonne accuracy des résultats\n",
    "Inconvénient: ne connait pas beaucoup de mot: classe beaucoup de tweet en neutre"
   ]
  },
  {
   "cell_type": "code",
   "execution_count": 49,
   "metadata": {
    "collapsed": true
   },
   "outputs": [],
   "source": [
    "from textblob import TextBlob\n",
    "import sys\n",
    "import re\n",
    "\n",
    "def clean_tweet(tweet):\n",
    "        '''\n",
    "        Utility function to clean tweet text by removing links, special characters\n",
    "        using simple regex statements.\n",
    "        '''\n",
    "        return ' '.join(re.sub(\"(@[A-Za-z0-9]+)|([^0-9A-Za-z \\t])|(\\w+:\\/\\/\\S+)\", \" \", tweet).split())\n",
    "\n",
    "def get_tweet_sentiment(tweet):\n",
    "        '''\n",
    "        Utility function to classify sentiment of passed tweet\n",
    "        using textblob's sentiment method\n",
    "        '''\n",
    "        # create TextBlob object of passed tweet text\n",
    "        analysis = TextBlob(clean_tweet(tweet))\n",
    "        # set sentiment\n",
    "        return analysis.sentiment.polarity\n",
    "        if analysis.sentiment.polarity > 0:\n",
    "            return 'positive'\n",
    "        elif analysis.sentiment.polarity == 0:\n",
    "            return 'neutral'\n",
    "        else:\n",
    "            return 'negative'\n",
    "        \n",
    "def getDataLines(file_path):\n",
    "    f = open(file_path, \"r\")\n",
    "    lines = f.readlines()\n",
    "    f.close\n",
    "    return lines\n",
    "\n",
    "def clean_tweet(tweet):\n",
    "        '''\n",
    "        Utility function to clean tweet text by removing links, special characters\n",
    "        using simple regex statements.\n",
    "        '''\n",
    "        return ' '.join(re.sub(\"(@[A-Za-z0-9]+)|([^0-9A-Za-z \\t])|(\\w+:\\/\\/\\S+)\", \" \", tweet).split())\n",
    "\n",
    "def get_tweet_sentiment(tweet):\n",
    "        '''\n",
    "        Utility function to classify sentiment of passed tweet\n",
    "        using textblob's sentiment method\n",
    "        '''\n",
    "        # create TextBlob object of passed tweet text\n",
    "        analysis = TextBlob(clean_tweet(tweet))\n",
    "        # set sentiment\n",
    "        return analysis.sentiment.polarity\n",
    "        if analysis.sentiment.polarity > 0:\n",
    "            return 'positive'\n",
    "        elif analysis.sentiment.polarity == 0:\n",
    "            return 'neutral'\n",
    "        else:\n",
    "            return 'negative'"
   ]
  },
  {
   "cell_type": "markdown",
   "metadata": {},
   "source": [
    "# Train Data"
   ]
  },
  {
   "cell_type": "code",
   "execution_count": 12,
   "metadata": {},
   "outputs": [
    {
     "name": "stdout",
     "output_type": "stream",
     "text": [
      "0.8401940835811551\n"
     ]
    }
   ],
   "source": [
    "path = \"../data/michigan/training.txt\"\n",
    "lines = getDataLines(path)\n",
    "\n",
    "count  = 0\n",
    "acc = 0\n",
    "\n",
    "for l in lines:\n",
    "    l = l.split(\"\\t\")\n",
    "    l[1] = l[1][:-1]\n",
    "    feeling = get_tweet_sentiment(l[1])\n",
    "    if (feeling != 0):\n",
    "        count = count + 1\n",
    "        if ((feeling > 0 and int(l[0]) == 1) or (feeling < 0 and int(l[0]) == 0)):\n",
    "            acc = acc + 1\n",
    "    \n",
    "print(acc/count)"
   ]
  },
  {
   "cell_type": "markdown",
   "metadata": {},
   "source": [
    "# Train Data Positif"
   ]
  },
  {
   "cell_type": "code",
   "execution_count": 13,
   "metadata": {},
   "outputs": [
    {
     "name": "stdout",
     "output_type": "stream",
     "text": [
      "0.8372452927521279\n"
     ]
    }
   ],
   "source": [
    "path = \"../data/michigan/training.txt\"\n",
    "lines = getDataLines(path)\n",
    "\n",
    "count  = 0\n",
    "acc = 0\n",
    "\n",
    "for l in lines:\n",
    "    l = l.split(\"\\t\")\n",
    "    l[1] = l[1][:-1]\n",
    "    feeling = get_tweet_sentiment(l[1])\n",
    "    if (feeling != 0 and int(l[0]) == 1):\n",
    "        count = count + 1\n",
    "        if (feeling > 0):\n",
    "            acc = acc + 1\n",
    "    \n",
    "print(acc/count)"
   ]
  },
  {
   "cell_type": "markdown",
   "metadata": {},
   "source": [
    "# Train Data Negatif"
   ]
  },
  {
   "cell_type": "code",
   "execution_count": 14,
   "metadata": {},
   "outputs": [
    {
     "name": "stdout",
     "output_type": "stream",
     "text": [
      "0.8447452229299363\n"
     ]
    }
   ],
   "source": [
    "path = \"../data/michigan/training.txt\"\n",
    "lines = getDataLines(path)\n",
    "\n",
    "count  = 0\n",
    "acc = 0\n",
    "\n",
    "for l in lines:\n",
    "    l = l.split(\"\\t\")\n",
    "    l[1] = l[1][:-1]\n",
    "    feeling = get_tweet_sentiment(l[1])\n",
    "    if (feeling != 0 and int(l[0]) == 0):\n",
    "        count = count + 1\n",
    "        if (feeling < 0):\n",
    "            acc = acc + 1\n",
    "    \n",
    "print(acc/count)"
   ]
  },
  {
   "cell_type": "markdown",
   "metadata": {},
   "source": [
    "# Test Data"
   ]
  },
  {
   "cell_type": "code",
   "execution_count": 15,
   "metadata": {},
   "outputs": [
    {
     "name": "stdout",
     "output_type": "stream",
     "text": [
      "Pos: 17581\n",
      "Neg: 10599\n"
     ]
    }
   ],
   "source": [
    "path = \"../data/michigan/testdata.txt\"\n",
    "lines = getDataLines(path)\n",
    "\n",
    "neg = 0\n",
    "pos = 0\n",
    "\n",
    "for l in lines:\n",
    "    feeling = get_tweet_sentiment(l)\n",
    "    if (feeling != 0):\n",
    "        count = count + 1\n",
    "        if (feeling > 0):\n",
    "            pos += 1\n",
    "        else:\n",
    "            neg += 1\n",
    "            \n",
    "    \n",
    "print(\"Pos:\", pos)\n",
    "print(\"Neg:\", neg)"
   ]
  },
  {
   "cell_type": "code",
   "execution_count": 67,
   "metadata": {},
   "outputs": [
    {
     "name": "stdout",
     "output_type": "stream",
     "text": [
      "0.901040903093388 % accuracy\n",
      "6821 tweets étudiés\n",
      "265 tweets neutres\n",
      "0.9626023144228055 % des tweets utilisés\n"
     ]
    }
   ],
   "source": [
    "from vaderSentiment import sentiment\n",
    "path = \"../data/michigan/training.txt\"\n",
    "lines = getDataLines(path)\n",
    "\n",
    "\n",
    "count = 0\n",
    "acc = 0\n",
    "n = 0\n",
    "for l in lines:\n",
    "    l = l.split(\"\\t\")\n",
    "    l[1] = l[1][:-1]\n",
    "    sent = sentiment(l[1])\n",
    "    pos = float(sent['pos'])\n",
    "    neg = float(sent['neg'])\n",
    "    neu = float(sent['neu'])\n",
    "    if (neu != 1):\n",
    "        count += 1\n",
    "        if ((int(l[0]) == 1 and pos > neg) or (int(l[0]) == 0 and neg > pos)):\n",
    "            acc += 1\n",
    "    else:\n",
    "        feel = get_tweet_sentiment(l[1])\n",
    "        if (feel != 0):\n",
    "            count += 1\n",
    "            if ((int(l[0]) == 1 and feel > 0) or (int(l[0]) == 0 and feel < 0)):\n",
    "                acc += 1\n",
    "        else:\n",
    "            n += 1\n",
    "\n",
    "    \n",
    "print(acc/count, \"% accuracy\")\n",
    "print(count, \"tweets étudiés\")\n",
    "print(n, \"tweets neutres\")\n",
    "print(count/len(lines), \"% des tweets utilisés\")"
   ]
  },
  {
   "cell_type": "markdown",
   "metadata": {
    "collapsed": true
   },
   "source": [
    "L'accuracy est de 100% dans le cas où on filtre les cas où pos ou neg est > 0.5\n",
    "Si on filtre les neutre qui le sont à 1 alors on obtient une accuracy de 90%\n",
    "Dans le cas normal, accuracy est de 80%\n",
    "\n",
    "Si on utilise textblob dans le cas où le tweet est considéré comme neutre, alors on obtient 86% d'accuracy.\n",
    "Si on ignore encore les tweet considéré comme neutre par vader ET textblob alors on obtient un accuracy de 90%"
   ]
  },
  {
   "cell_type": "code",
   "execution_count": null,
   "metadata": {},
   "outputs": [],
   "source": []
  },
  {
   "cell_type": "code",
   "execution_count": null,
   "metadata": {
    "collapsed": true
   },
   "outputs": [],
   "source": []
  }
 ],
 "metadata": {
  "kernelspec": {
   "display_name": "Python 3",
   "language": "python",
   "name": "python3"
  },
  "language_info": {
   "codemirror_mode": {
    "name": "ipython",
    "version": 3
   },
   "file_extension": ".py",
   "mimetype": "text/x-python",
   "name": "python",
   "nbconvert_exporter": "python",
   "pygments_lexer": "ipython3",
   "version": "3.6.1"
  }
 },
 "nbformat": 4,
 "nbformat_minor": 2
}
