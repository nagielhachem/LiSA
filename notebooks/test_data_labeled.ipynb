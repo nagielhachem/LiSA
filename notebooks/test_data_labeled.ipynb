{
 "cells": [
  {
   "cell_type": "code",
   "execution_count": 3,
   "metadata": {},
   "outputs": [],
   "source": [
    "from textblob import TextBlob\n",
    "import sys\n",
    "import re\n",
    "\n",
    "def clean_tweet(tweet):\n",
    "        '''\n",
    "        Utility function to clean tweet text by removing links, special characters\n",
    "        using simple regex statements.\n",
    "        '''\n",
    "        return ' '.join(re.sub(\"(@[A-Za-z0-9]+)|([^0-9A-Za-z \\t])|(\\w+:\\/\\/\\S+)\", \" \", tweet).split())\n",
    "\n",
    "def get_tweet_sentiment(tweet):\n",
    "        '''\n",
    "        Utility function to classify sentiment of passed tweet\n",
    "        using textblob's sentiment method\n",
    "        '''\n",
    "        # create TextBlob object of passed tweet text\n",
    "        analysis = TextBlob(clean_tweet(tweet))\n",
    "        # set sentiment\n",
    "        return analysis.sentiment.polarity\n",
    "        if analysis.sentiment.polarity > 0:\n",
    "            return 'positive'\n",
    "        elif analysis.sentiment.polarity == 0:\n",
    "            return 'neutral'\n",
    "        else:\n",
    "            return 'negative'\n",
    "        \n",
    "def getDataLines(file_path):\n",
    "    f = open(file_path, \"r\")\n",
    "    lines = f.readlines()\n",
    "    f.close\n",
    "    return lines"
   ]
  },
  {
   "cell_type": "markdown",
   "metadata": {},
   "source": [
    "# Train Data"
   ]
  },
  {
   "cell_type": "code",
   "execution_count": 31,
   "metadata": {},
   "outputs": [
    {
     "name": "stdout",
     "output_type": "stream",
     "text": [
      "0.8401940835811551\n"
     ]
    }
   ],
   "source": [
    "path = \"../data/michigan/training.txt\"\n",
    "lines = getDataLines(path)\n",
    "\n",
    "count  = 0\n",
    "acc = 0\n",
    "\n",
    "for l in lines:\n",
    "    l = l.split(\"\\t\")\n",
    "    l[1] = l[1][:-1]\n",
    "    feeling = get_tweet_sentiment(l[1])\n",
    "    if (feeling != 0):\n",
    "        count = count + 1\n",
    "        if ((feeling > 0 and int(l[0]) == 1) or (feeling < 0 and int(l[0]) == 0)):\n",
    "            acc = acc + 1\n",
    "    \n",
    "print(acc/count)"
   ]
  },
  {
   "cell_type": "markdown",
   "metadata": {},
   "source": [
    "# Train Data Positif"
   ]
  },
  {
   "cell_type": "code",
   "execution_count": 32,
   "metadata": {},
   "outputs": [
    {
     "name": "stdout",
     "output_type": "stream",
     "text": [
      "0.8372452927521279\n"
     ]
    }
   ],
   "source": [
    "path = \"../data/michigan/training.txt\"\n",
    "lines = getDataLines(path)\n",
    "\n",
    "count  = 0\n",
    "acc = 0\n",
    "\n",
    "for l in lines:\n",
    "    l = l.split(\"\\t\")\n",
    "    l[1] = l[1][:-1]\n",
    "    feeling = get_tweet_sentiment(l[1])\n",
    "    if (feeling != 0 and int(l[0]) == 1):\n",
    "        count = count + 1\n",
    "        if (feeling > 0):\n",
    "            acc = acc + 1\n",
    "    \n",
    "print(acc/count)"
   ]
  },
  {
   "cell_type": "markdown",
   "metadata": {},
   "source": [
    "# Train Data Negatif"
   ]
  },
  {
   "cell_type": "code",
   "execution_count": 29,
   "metadata": {},
   "outputs": [
    {
     "name": "stdout",
     "output_type": "stream",
     "text": [
      "0.8447452229299363\n"
     ]
    }
   ],
   "source": [
    "path = \"../data/michigan/training.txt\"\n",
    "lines = getDataLines(path)\n",
    "\n",
    "count  = 0\n",
    "acc = 0\n",
    "\n",
    "for l in lines:\n",
    "    l = l.split(\"\\t\")\n",
    "    l[1] = l[1][:-1]\n",
    "    feeling = get_tweet_sentiment(l[1])\n",
    "    if (feeling != 0 and int(l[0]) == 0):\n",
    "        count = count + 1\n",
    "        if (feeling < 0):\n",
    "            acc = acc + 1\n",
    "    \n",
    "print(acc/count)"
   ]
  },
  {
   "cell_type": "markdown",
   "metadata": {},
   "source": [
    "# Test Data"
   ]
  },
  {
   "cell_type": "code",
   "execution_count": 28,
   "metadata": {},
   "outputs": [
    {
     "name": "stdout",
     "output_type": "stream",
     "text": [
      "Pos 17581\n",
      "Neg 10599\n"
     ]
    }
   ],
   "source": [
    "path = \"../data/michigan/testdata.txt\"\n",
    "lines = getDataLines(path)\n",
    "\n",
    "neg = 0\n",
    "pos = 0\n",
    "\n",
    "for l in lines:\n",
    "    feeling = get_tweet_sentiment(l)\n",
    "    if (feeling != 0):\n",
    "        count = count + 1\n",
    "        if (feeling > 0):\n",
    "            pos += 1\n",
    "        else:\n",
    "            neg += 1\n",
    "            \n",
    "    \n",
    "print(\"Pos:\", pos)\n",
    "print(\"Neg:\", neg)"
   ]
  },
  {
   "cell_type": "code",
   "execution_count": null,
   "metadata": {
    "collapsed": true
   },
   "outputs": [],
   "source": []
  }
 ],
 "metadata": {
  "kernelspec": {
   "display_name": "Python 3",
   "language": "python",
   "name": "python3"
  },
  "language_info": {
   "codemirror_mode": {
    "name": "ipython",
    "version": 3
   },
   "file_extension": ".py",
   "mimetype": "text/x-python",
   "name": "python",
   "nbconvert_exporter": "python",
   "pygments_lexer": "ipython3",
   "version": "3.6.1"
  }
 },
 "nbformat": 4,
 "nbformat_minor": 2
}
