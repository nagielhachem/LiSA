{
 "cells": [
  {
   "cell_type": "code",
   "execution_count": 1,
   "metadata": {
    "collapsed": true
   },
   "outputs": [],
   "source": [
    "from textblob import TextBlob\n",
    "import sys\n",
    "import re\n",
    "\n",
    "def clean_tweet(tweet):\n",
    "        '''\n",
    "        Utility function to clean tweet text by removing links, special characters\n",
    "        using simple regex statements.\n",
    "        '''\n",
    "        return ' '.join(re.sub(\"(@[A-Za-z0-9]+)|([^0-9A-Za-z \\t])|(\\w+:\\/\\/\\S+)\", \" \", tweet).split())\n",
    "\n",
    "def get_tweet_sentiment(tweet):\n",
    "        '''\n",
    "        Utility function to classify sentiment of passed tweet\n",
    "        using textblob's sentiment method\n",
    "        '''\n",
    "        # create TextBlob object of passed tweet text\n",
    "        analysis = TextBlob(clean_tweet(tweet))\n",
    "        # set sentiment\n",
    "        return analysis.sentiment.polarity\n",
    "        if analysis.sentiment.polarity > 0:\n",
    "            return 'positive'\n",
    "        elif analysis.sentiment.polarity == 0:\n",
    "            return 'neutral'\n",
    "        else:\n",
    "            return 'negative'\n",
    "        \n",
    "def getDataLines(file_path):\n",
    "    f = open(file_path, \"r\")\n",
    "    lines = f.readlines()\n",
    "    f.close\n",
    "    return lines"
   ]
  },
  {
   "cell_type": "markdown",
   "metadata": {},
   "source": [
    "# Train Data"
   ]
  },
  {
   "cell_type": "code",
   "execution_count": 52,
   "metadata": {},
   "outputs": [
    {
     "name": "stdout",
     "output_type": "stream",
     "text": [
      "Neutral (don't know ?) : 697 (0.109093754891%)\n",
      "Correct                : 5368 (0.840194083581%)\n"
     ]
    }
   ],
   "source": [
    "path = \"../data/michigan/training.txt\"\n",
    "lines = getDataLines(path)\n",
    "\n",
    "count  = 0\n",
    "acc = 0\n",
    "dont_know = 0\n",
    "\n",
    "for l in lines:\n",
    "    l = l.split(\"\\t\")\n",
    "    l[1] = l[1][:-1]\n",
    "    feeling = get_tweet_sentiment(l[1])\n",
    "    if (feeling == 0):\n",
    "        dont_know = dont_know + 1\n",
    "        #print(l[1])\n",
    "    if (feeling != 0):\n",
    "        count = count + 1\n",
    "        label = int(l[0])\n",
    "        if ((feeling > 0 and label == 1) or (feeling < 0 and label == 0)):\n",
    "            acc = acc + 1\n",
    "\n",
    "print(\"Neutral (don't know ?) : \" + str(dont_know) + \" (\"  + str(float(dont_know) / float(count)) + \"%)\")\n",
    "print(\"Correct                : \" + str(acc) + \" (\" + str(float(acc) / float(count)) + \"%)\")"
   ]
  },
  {
   "cell_type": "code",
   "execution_count": 53,
   "metadata": {},
   "outputs": [
    {
     "name": "stdout",
     "output_type": "stream",
     "text": [
      "Neutral (don't know ?) : 713 (0.154395842356%)\n",
      "Correct                : 3817 (0.826548289303%)\n"
     ]
    }
   ],
   "source": [
    "path = \"../data/rt-polaritydata/rt-polarity.pos\"\n",
    "lines = getDataLines(path)\n",
    "\n",
    "count  = 0\n",
    "acc = 0\n",
    "dont_know = 0\n",
    "\n",
    "for l in lines:\n",
    "    feeling = get_tweet_sentiment(l)\n",
    "    if (feeling == 0):\n",
    "        dont_know = dont_know + 1\n",
    "        #print(l)\n",
    "    else :\n",
    "        count = count + 1\n",
    "        if (feeling > 0):\n",
    "            acc = acc + 1\n",
    "\n",
    "print(\"Neutral (don't know ?) : \" + str(dont_know) + \" (\"  + str(float(dont_know) / float(count)) + \"%)\")\n",
    "print(\"Correct                : \" + str(acc) + \" (\" + str(float(acc) / float(count)) + \"%)\")"
   ]
  },
  {
   "cell_type": "code",
   "execution_count": 54,
   "metadata": {},
   "outputs": [
    {
     "name": "stdout",
     "output_type": "stream",
     "text": [
      "Neutral (don't know ?) : 826 (0.183351831299%)\n",
      "Correct                : 2099 (0.465926748058%)\n"
     ]
    }
   ],
   "source": [
    "path = \"../data/rt-polaritydata/rt-polarity.neg\"\n",
    "lines = getDataLines(path)\n",
    "\n",
    "count  = 0\n",
    "acc = 0\n",
    "dont_know = 0\n",
    "\n",
    "for l in lines:\n",
    "    feeling = get_tweet_sentiment(l)\n",
    "    if (feeling == 0):\n",
    "        dont_know = dont_know + 1\n",
    "        #print(l)\n",
    "    else:\n",
    "        count = count + 1\n",
    "        if (feeling < 0):\n",
    "            acc = acc + 1\n",
    "\n",
    "print(\"Neutral (don't know ?) : \" + str(dont_know) + \" (\"  + str(float(dont_know) / float(count)) + \"%)\")\n",
    "print(\"Correct                : \" + str(acc) + \" (\" + str(float(acc) / float(count)) + \"%)\")"
   ]
  },
  {
   "cell_type": "markdown",
   "metadata": {},
   "source": [
    "# Train Data Positif"
   ]
  },
  {
   "cell_type": "code",
   "execution_count": 49,
   "metadata": {},
   "outputs": [
    {
     "name": "stdout",
     "output_type": "stream",
     "text": [
      "Correct : 3246 (0.837245292752%)\n"
     ]
    }
   ],
   "source": [
    "path = \"../data/michigan/training.txt\"\n",
    "lines = getDataLines(path)\n",
    "\n",
    "count  = 0\n",
    "acc = 0\n",
    "dont_know = 0\n",
    "\n",
    "for l in lines:\n",
    "    l = l.split(\"\\t\")\n",
    "    l[1] = l[1][:-1]\n",
    "    feeling = get_tweet_sentiment(l[1])\n",
    "    if (feeling != 0 and int(l[0]) == 1):\n",
    "        count = count + 1\n",
    "        if (feeling > 0):\n",
    "            acc = acc + 1\n",
    "\n",
    "print(\"Correct : \" + str(acc) + \" (\" + str(float(acc) / float(count)) + \"%)\")"
   ]
  },
  {
   "cell_type": "code",
   "execution_count": null,
   "metadata": {
    "collapsed": true
   },
   "outputs": [],
   "source": []
  },
  {
   "cell_type": "markdown",
   "metadata": {},
   "source": [
    "# Train Data Negatif"
   ]
  },
  {
   "cell_type": "code",
   "execution_count": 29,
   "metadata": {},
   "outputs": [
    {
     "name": "stdout",
     "output_type": "stream",
     "text": [
      "0.8447452229299363\n"
     ]
    }
   ],
   "source": [
    "path = \"../data/michigan/training.txt\"\n",
    "lines = getDataLines(path)\n",
    "\n",
    "count  = 0\n",
    "acc = 0\n",
    "\n",
    "for l in lines:\n",
    "    l = l.split(\"\\t\")\n",
    "    l[1] = l[1][:-1]\n",
    "    feeling = get_tweet_sentiment(l[1])\n",
    "    if (feeling != 0 and int(l[0]) == 0):\n",
    "        count = count + 1\n",
    "        if (feeling < 0):\n",
    "            acc = acc + 1\n",
    "    \n",
    "print(\"Correct : \" + str(acc) + \" (\" + str(float(acc) / float(count)) + \"%)\")"
   ]
  },
  {
   "cell_type": "markdown",
   "metadata": {},
   "source": [
    "# Test Data"
   ]
  },
  {
   "cell_type": "code",
   "execution_count": 28,
   "metadata": {},
   "outputs": [
    {
     "name": "stdout",
     "output_type": "stream",
     "text": [
      "Pos 17581\n",
      "Neg 10599\n"
     ]
    }
   ],
   "source": [
    "path = \"../data/michigan/testdata.txt\"\n",
    "lines = getDataLines(path)\n",
    "\n",
    "neg = 0\n",
    "pos = 0\n",
    "\n",
    "for l in lines:\n",
    "    feeling = get_tweet_sentiment(l)\n",
    "    if (feeling != 0):\n",
    "        count = count + 1\n",
    "        if (feeling > 0):\n",
    "            pos += 1\n",
    "        else:\n",
    "            neg += 1\n",
    "            \n",
    "    \n",
    "print(\"Pos:\", pos)\n",
    "print(\"Neg:\", neg)"
   ]
  },
  {
   "cell_type": "code",
   "execution_count": null,
   "metadata": {
    "collapsed": true
   },
   "outputs": [],
   "source": []
  }
 ],
 "metadata": {
  "kernelspec": {
   "display_name": "Python 2",
   "language": "python",
   "name": "python2"
  },
  "language_info": {
   "codemirror_mode": {
    "name": "ipython",
    "version": 2
   },
   "file_extension": ".py",
   "mimetype": "text/x-python",
   "name": "python",
   "nbconvert_exporter": "python",
   "pygments_lexer": "ipython2",
   "version": "2.7.13"
  }
 },
 "nbformat": 4,
 "nbformat_minor": 2
}
